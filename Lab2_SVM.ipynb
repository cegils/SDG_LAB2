{
  "cells": [
    {
      "cell_type": "markdown",
      "metadata": {
        "id": "view-in-github",
        "colab_type": "text"
      },
      "source": [
        "<a href=\"https://colab.research.google.com/github/cegilsimancas/SDG_LAB2/blob/main/Lab2_SVM.ipynb\" target=\"_parent\"><img src=\"https://colab.research.google.com/assets/colab-badge.svg\" alt=\"Open In Colab\"/></a>"
      ]
    },
    {
      "cell_type": "code",
      "execution_count": 2,
      "id": "private-corporation",
      "metadata": {
        "id": "private-corporation"
      },
      "outputs": [],
      "source": [
        "import numpy as np\n",
        "import random, math\n",
        "from scipy.optimize import minimize\n",
        "import matplotlib.pyplot as plt"
      ]
    },
    {
      "cell_type": "code",
      "execution_count": 3,
      "id": "completed-three",
      "metadata": {
        "id": "completed-three"
      },
      "outputs": [],
      "source": [
        "def objective(alpha):\n",
        "    global target_kernel_matrix\n",
        "    return 1/2 * target_kernel_matrix.dot(alpha).dot(alpha) - np.sum(alpha)\n",
        "    \n",
        "def initialize(N):\n",
        "    return np.zeros(N)\n",
        "\n",
        "def alpha_limits(C, N):\n",
        "    return [(0,C) for b in range(N)]\n",
        "\n",
        "def zerofun(alpha):\n",
        "    global targets\n",
        "    return np.dot(alpha, targets)\n",
        "    \n",
        "def constraints(type='eq', fun=zerofun):\n",
        "    return {'type':type, 'fun':fun}\n",
        "\n",
        "def kernel(kernel_type, x, y, p=0, sigma=0):\n",
        "    if kernel_type == \"linear\":\n",
        "        return np.dot(x,y)\n",
        "    if kernel_type == \"polynomial\":\n",
        "        return (np.dot(x,y)+1)**p\n",
        "    if kernel_type == \"radial\":\n",
        "        return np.exp(-np.linalg.norm(x-y)**2/2/sigma**2)\n",
        "\n",
        "def threshold_filter(alpha, targets, inputs, threshold=10e-5):\n",
        "    filtered_alpha = np.array([a for a in alpha if a >= threshold])\n",
        "    filtered_targets = np.array([targets[i] for i in range(len(alpha)) if alpha[i] >= threshold])\n",
        "    filtered_inputs = np.array([inputs[i] for i in range(len(alpha)) if alpha[i] >= threshold])\n",
        "    return filtered_alpha, filtered_inputs, filtered_targets\n",
        "\n",
        "def calc_b(alpha, sv_target_kernel_vector, sv_target):\n",
        "    return np.sum(alpha*sv_target_kernel_vector) - sv_target\n",
        "\n",
        "def indicator(x, y):\n",
        "    global filtered_alpha, filtered_inputs, filtered_targets, b\n",
        "    global kernel_type, p_value, sigma_value\n",
        "    kernel_vector = np.array([kernel(kernel_type, np.array([x,y]), i, p_value, sigma_value) for i in filtered_inputs])\n",
        "    return np.sum(filtered_alpha * filtered_targets * kernel_vector) - b"
      ]
    },
    {
      "cell_type": "code",
      "execution_count": 29,
      "id": "moderate-newark",
      "metadata": {
        "id": "moderate-newark",
        "colab": {
          "base_uri": "https://localhost:8080/",
          "height": 444
        },
        "outputId": "423511be-142c-40a3-a0f7-6a74e6c0b926"
      },
      "outputs": [
        {
          "output_type": "display_data",
          "data": {
            "text/plain": [
              "<Figure size 504x504 with 1 Axes>"
            ],
            "image/png": "[encoded data removed]"
          },
          "metadata": {
            "needs_background": "light"
          }
        }
      ],
      "source": [
        "figsize = [7,7]\n",
        "np.random.seed(100)\n",
        "classA = np.concatenate(\n",
        "(np.random.randn(10, 2) * 0.2 + [0.3, .1],\n",
        "np.random.randn(10, 2) * 0.2 + [-0.3, .1]))\n",
        "\n",
        "classB = np.random.randn(20, 2) * 0.2 + [0.0, -.3]\n",
        "\n",
        "inputs = np.concatenate((classA, classB))\n",
        "\n",
        "targets = np.concatenate( #Definition of each target: 1 class A, -1 Class B\n",
        "(np.ones(classA.shape[0]),\n",
        "-np.ones(classB.shape[0])))\n",
        "\n",
        "N = inputs.shape[0] # Number of rows (samples)\n",
        "permute = list(range(N))\n",
        "random.shuffle(permute)\n",
        "inputs = inputs[permute,:]\n",
        "targets = targets[permute]\n",
        "\n",
        "\n",
        "plt.plot([p[0] for p in classA], [p[1] for p in classA], 'b.') #(x,y, 'b.')\n",
        "plt.plot([p[0] for p in classB], [p[1] for p in classB], 'r.')\n",
        "#xgrid = np.linspace(-5, 5)\n",
        "#ygrid = np.linspace(-4, 4)\n",
        "#grid = np.array([[indicator(x, y) for x in xgrid] for y in ygrid])\n",
        "#plt.contour(xgrid, ygrid, grid, (-1.0, 0.0, 1.0), colors=('red','black','blue'),linewidths=(1 , 3 , 1))\n",
        "plt.axis('equal') # Force same scale on both axes\n",
        "plt.title(\"Inputs\", fontdict=None, loc='center')\n",
        "plt.rcParams['figure.figsize'] = figsize\n",
        "plt.savefig('svmplot.png') # Save a copy in a file\n",
        "plt.show() # Show the plot on the screen\n",
        "\n"
      ]
    },
    {
      "cell_type": "markdown",
      "source": [
        "# Radial Kernel"
      ],
      "metadata": {
        "id": "UlcvXejxUI8j"
      },
      "id": "UlcvXejxUI8j"
    },
    {
      "cell_type": "code",
      "execution_count": 54,
      "id": "ideal-relations",
      "metadata": {
        "id": "ideal-relations",
        "colab": {
          "base_uri": "https://localhost:8080/",
          "height": 1000
        },
        "outputId": "4b8b88cb-96aa-4b40-8010-ddc666e47562"
      },
      "outputs": [
        {
          "output_type": "stream",
          "name": "stdout",
          "text": [
            "[0.1 0.1 0.1 0.1 0.1 0.1 0.1 0.1 0.1 0.1 0.1 0.1 0.1 0.1 0.1 0.1 0.1 0.1\n",
            " 0.1 0.1 0.1 0.1 0.1 0.1 0.1 0.1 0.1 0.1 0.1 0.1 0.1 0.1 0.1 0.1 0.1 0.1\n",
            " 0.1 0.1 0.1 0.1]\n",
            "0.6489003593485743\n",
            "0.9017114164548008\n",
            "-0.7265755062179693\n",
            "-1.0722387361986296\n",
            "0.8536907794556154\n",
            "-0.9699472771608165\n",
            "-0.7193287412294158\n",
            "-0.8499822329612914\n",
            "0.7709497058661996\n",
            "0.5649247709118023\n",
            "-0.8267996448444263\n",
            "-0.9035291649976821\n",
            "-0.8334196468973047\n",
            "0.6079145621236873\n",
            "1.025663126381073\n",
            "-0.6820738066639739\n",
            "-0.685443507662233\n",
            "-0.8602298917445508\n",
            "0.9839726017513883\n",
            "-0.7668884548877466\n",
            "-0.9690486753956339\n",
            "0.7548163744451121\n",
            "-0.8039247725091621\n",
            "0.9306449014993948\n",
            "0.6521130319720552\n",
            "-0.9354058414462345\n",
            "0.829037323744872\n",
            "0.8942695340693472\n",
            "0.6453907061778785\n",
            "-0.8238080044197129\n",
            "0.7383569640692258\n",
            "-0.8889565230975114\n",
            "-1.1554758682418687\n",
            "0.6784111543372586\n",
            "0.5304685404851919\n",
            "0.5252521156278573\n",
            "0.8082919473821413\n",
            "0.5671687555391511\n",
            "-0.8619619312670237\n",
            "-0.8501425203656968\n"
          ]
        },
        {
          "output_type": "display_data",
          "data": {
            "text/plain": [
              "<Figure size 504x504 with 1 Axes>"
            ],
            "image/png": "[encoded data removed]"
          },
          "metadata": {
            "needs_background": "light"
          }
        }
      ],
      "source": [
        "kernel_type = 'radial'\n",
        "p_value = 3\n",
        "sigma_value = 0.1\n",
        "C = 0.1\n",
        "\n",
        "start = initialize(N)\n",
        "B = alpha_limits(C, N)\n",
        "XC = {'type':'eq', 'fun':zerofun}\n",
        "\n",
        "target_kernel_matrix = np.zeros((N,N)) \n",
        "for i in range(N):\n",
        "    for j in range(N):\n",
        "        target_kernel_matrix[j,i] = targets[i] * targets[j] * kernel(\n",
        "            kernel_type, inputs[i] , inputs[j], p=p_value, sigma=sigma_value)\n",
        "\n",
        "ret = minimize(objective, start, bounds = B, constraints = XC) #Create the alpha vector\n",
        "alpha = ret['x']\n",
        "result = ret['success'] #Success or not\n",
        "\n",
        "filtered_alpha, filtered_inputs, filtered_targets = threshold_filter(alpha, targets, inputs) #Filter based on threshold\n",
        "print(filtered_alpha)\n",
        "for i in range(len(filtered_alpha)):\n",
        "  sv = filtered_inputs[i]\n",
        "  sv_target = filtered_targets[i]\n",
        "  #print(sv,sv_target)\n",
        "  sv_target_kernel_vector = np.array([targets[i]*kernel(kernel_type, sv, inputs[i], p_value, sigma_value) for i in range(len(inputs))])\n",
        "  b = calc_b(alpha,sv_target_kernel_vector, sv_target)\n",
        "  print(b)\n",
        "\n",
        "plt.plot([p[0] for p in classA], [p[1] for p in classA], 'b.')\n",
        "plt.plot([p[0] for p in classB], [p[1] for p in classB], 'r.')\n",
        "plt.plot([f[0] for f in filtered_inputs], [f[1] for f in filtered_inputs], 'g.', marker=\"D\")\n",
        "xgrid = np.linspace(-3, 3)\n",
        "ygrid = np.linspace(-3, 3)\n",
        "grid = np.array([[indicator(x, y) for x in xgrid] for y in ygrid])\n",
        "plt.contour(xgrid, ygrid, grid, (-1.0, 0.0, 1.0), colors=('red','black','blue'),linewidths=(1 , 3 , 1))\n",
        "plt.axis('equal') # Force same scale on both axes\n",
        "plt.title(\"Kernel: \" + str(kernel_type) + \", p value: \" + str(p_value) \n",
        "          + \", sigma value: \" + str(sigma_value) + \", C parameter: \" + str(C) \n",
        "          + \", Converged?: \" + str(result), fontdict=None, loc='center')\n",
        "plt.rcParams['figure.figsize'] = figsize\n",
        "plt.savefig(kernel_type+'_C_'+str(C)+'_p_'+str(p_value)+'_sigma_'+str(sigma_value)+'.png') # Save a copy in a file\n",
        "plt.show() # Show the plot on the screen\n",
        "\n"
      ]
    },
    {
      "cell_type": "markdown",
      "source": [
        "# Linear Kernel"
      ],
      "metadata": {
        "id": "MqqUeCtbUqxu"
      },
      "id": "MqqUeCtbUqxu"
    },
    {
      "cell_type": "code",
      "execution_count": 55,
      "metadata": {
        "colab": {
          "base_uri": "https://localhost:8080/",
          "height": 1000
        },
        "outputId": "c33cd018-f314-4b45-e523-b6a495f9a58c",
        "id": "j75YRlXLUnSm"
      },
      "outputs": [
        {
          "output_type": "stream",
          "name": "stdout",
          "text": [
            "False\n",
            "[2.19516674e+00 4.75647665e+04 1.33016686e-01 5.73707476e+04\n",
            " 2.98637717e+04 3.67462941e+04 4.94511818e-03 1.10324577e-03\n",
            " 1.08054864e+01 1.70651406e+01 6.77939990e-03 5.36067229e+04\n",
            " 1.74866114e-03 1.56695462e-03 6.88921249e+04 2.46719843e+00\n",
            " 1.38309317e-01 6.38595075e-02 6.26514391e+04 3.98715104e+02\n",
            " 2.01878152e+04 2.03228377e+04 4.52342070e+03 2.81278498e+04\n",
            " 1.61788818e+01 3.98897113e+04 3.80611631e+04 4.20927352e+03\n",
            " 1.44788661e-03 6.92534124e+00 1.78676075e+04 4.20808428e+03\n",
            " 6.41237915e+04 1.05318511e+00 3.32153564e+00 1.11528640e+01\n",
            " 1.03849471e-01 7.03005782e-01 7.39654717e+00 3.65509734e+04]\n",
            "0.1453463505131367\n",
            "0.6411984638455124\n",
            "-0.7185462467605248\n",
            "-1.3653559636986756\n",
            "0.5358995719761879\n",
            "-1.0834345831790415\n",
            "-0.36530547461734386\n",
            "-0.108079832398289\n",
            "-0.4693026630629902\n",
            "-0.04628599709212722\n",
            "-0.318723022274753\n",
            "-1.2124856012487726\n",
            "-0.15321484134710772\n",
            "0.013721777891987585\n",
            "1.048785321880132\n",
            "-0.4567846038607968\n",
            "-0.6291784595614445\n",
            "-0.6204383318315649\n",
            "0.9229329008139757\n",
            "-0.9093037113379978\n",
            "-0.9520205102053296\n",
            "0.3382148682339903\n",
            "-0.9926510706463887\n",
            "0.5724436409000191\n",
            "-0.26121621823403984\n",
            "-1.3120698452603392\n",
            "0.5601717071276653\n",
            "0.02180470426537795\n",
            "-0.16582222086617548\n",
            "-0.64945391821675\n",
            "0.38322466482532036\n",
            "-0.6862342894310132\n",
            "-1.5109404260592783\n",
            "-0.3267527187936139\n",
            "0.06875873803437571\n",
            "0.05139286964185885\n",
            "-0.054675251009030035\n",
            "0.07193237983756262\n",
            "-0.33574583621157217\n",
            "-1.3160607480513136\n"
          ]
        },
        {
          "output_type": "display_data",
          "data": {
            "text/plain": [
              "<Figure size 504x504 with 1 Axes>"
            ],
            "image/png": "[encoded data removed]"
          },
          "metadata": {
            "needs_background": "light"
          }
        }
      ],
      "source": [
        "kernel_type = 'linear'\n",
        "p_value = 3\n",
        "sigma_value = .3\n",
        "C = None\n",
        "\n",
        "start = initialize(N)\n",
        "B = alpha_limits(C, N)\n",
        "XC = {'type':'eq', 'fun':zerofun}\n",
        "\n",
        "target_kernel_matrix = np.zeros((N,N)) \n",
        "for i in range(N):\n",
        "    for j in range(N):\n",
        "        target_kernel_matrix[j,i] = targets[i] * targets[j] * kernel(\n",
        "            kernel_type, inputs[i] , inputs[j], p=p_value, sigma=sigma_value)\n",
        "        \n",
        "ret = minimize(objective, start, bounds = B, constraints = XC) #Create the alpha vector\n",
        "alpha = ret['x']\n",
        "result = ret['success'] #Success or not\n",
        "print(result)\n",
        "\n",
        "filtered_alpha, filtered_inputs, filtered_targets = threshold_filter(alpha, targets, inputs) #Filter based on threshold\n",
        "print(filtered_alpha)\n",
        "for i in range(len(filtered_alpha)):\n",
        "  sv = filtered_inputs[i]\n",
        "  sv_target = filtered_targets[i]\n",
        "  #print(sv,sv_target)\n",
        "  sv_target_kernel_vector = np.array([targets[i]*kernel(kernel_type, sv, inputs[i], p_value, sigma_value) for i in range(len(inputs))])\n",
        "  b = calc_b(alpha,sv_target_kernel_vector, sv_target)\n",
        "  print(b)\n",
        "\n",
        "plt.plot([p[0] for p in classA], [p[1] for p in classA], 'b.')\n",
        "plt.plot([p[0] for p in classB], [p[1] for p in classB], 'r.')\n",
        "plt.plot([f[0] for f in filtered_inputs], [f[1] for f in filtered_inputs], 'g.', marker=\"D\")\n",
        "xgrid = np.linspace(-3, 3)\n",
        "ygrid = np.linspace(-3, 3)\n",
        "grid = np.array([[indicator(x, y) for x in xgrid] for y in ygrid])\n",
        "plt.contour(xgrid, ygrid, grid, (-1.0, 0.0, 1.0), colors=('red','black','blue'),linewidths=(1 , 3 , 1))\n",
        "plt.axis('equal') # Force same scale on both axes\n",
        "plt.title(\"Kernel: \" + str(kernel_type) + \", p value: \" + str(p_value) \n",
        "          + \", sigma value: \" + str(sigma_value) + \", C parameter: \" + str(C) \n",
        "          + \", Converged?: \" + str(result), fontdict=None, loc='center')\n",
        "plt.rcParams['figure.figsize'] = figsize\n",
        "plt.savefig(kernel_type+'_C_'+str(C)+'_p_'+str(p_value)+'_sigma_'+str(sigma_value)+'.png') # Save a copy in a file\n",
        "plt.show() # Show the plot on the screen"
      ],
      "id": "j75YRlXLUnSm"
    },
    {
      "cell_type": "markdown",
      "source": [
        "# Polynomial Kernel"
      ],
      "metadata": {
        "id": "Ak3HgJE-WRpP"
      },
      "id": "Ak3HgJE-WRpP"
    },
    {
      "cell_type": "code",
      "execution_count": 52,
      "metadata": {
        "colab": {
          "base_uri": "https://localhost:8080/",
          "height": 913
        },
        "outputId": "82eef58d-2b89-4f97-a703-eb72b385c35b",
        "id": "LB-qeKanWOHV"
      },
      "outputs": [
        {
          "output_type": "stream",
          "name": "stdout",
          "text": [
            "True\n",
            "[0.09457512 0.1        0.1        0.1        0.1        0.1\n",
            " 0.08315725 0.1        0.0575801  0.1        0.1        0.1\n",
            " 0.1        0.1        0.1        0.1        0.07388264 0.1\n",
            " 0.08392579 0.1        0.05620539 0.1       ]\n",
            "-0.55227188579501\n",
            "0.6682036613902332\n",
            "-0.5578110257949944\n",
            "-1.471083305635959\n",
            "0.3551738178762347\n",
            "-0.9850099138032058\n",
            "-0.5520740299823743\n",
            "1.130982172002791\n",
            "-0.5523880455690968\n",
            "-0.713065095366187\n",
            "0.8944495381837603\n",
            "-0.9810726270874937\n",
            "0.11498799515696945\n",
            "0.498481302221476\n",
            "-1.2007854672778908\n",
            "0.4843076883616543\n",
            "-0.5521152474600881\n",
            "0.06752373012961876\n",
            "-0.55208724846361\n",
            "-1.6791301209892762\n",
            "-0.551918479109029\n",
            "-1.0919807450948815\n"
          ]
        },
        {
          "output_type": "display_data",
          "data": {
            "text/plain": [
              "<Figure size 504x504 with 1 Axes>"
            ],
            "image/png": "[encoded data removed]"
          },
          "metadata": {
            "needs_background": "light"
          }
        }
      ],
      "source": [
        "kernel_type = 'polynomial'\n",
        "p_value = 10\n",
        "sigma_value = 0.1\n",
        "C = 0.1\n",
        "\n",
        "start = initialize(N)\n",
        "B = alpha_limits(C, N)\n",
        "XC = {'type':'eq', 'fun':zerofun}\n",
        "\n",
        "target_kernel_matrix = np.zeros((N,N)) \n",
        "for i in range(N):\n",
        "    for j in range(N):\n",
        "        target_kernel_matrix[j,i] = targets[i] * targets[j] * kernel(\n",
        "            kernel_type, inputs[i] , inputs[j], p=p_value, sigma=sigma_value)\n",
        "        \n",
        "ret = minimize(objective, start, bounds = B, constraints = XC) #Create the alpha vector\n",
        "alpha = ret['x']\n",
        "result = ret['success'] #Success or not\n",
        "print(result)\n",
        "\n",
        "filtered_alpha, filtered_inputs, filtered_targets = threshold_filter(alpha, targets, inputs) #Filter based on threshold\n",
        "print(filtered_alpha)\n",
        "for i in range(len(filtered_alpha)):\n",
        "  sv = filtered_inputs[i]\n",
        "  sv_target = filtered_targets[i]\n",
        "  #print(sv,sv_target)\n",
        "  sv_target_kernel_vector = np.array([targets[i]*kernel(kernel_type, sv, inputs[i], p_value, sigma_value) for i in range(len(inputs))])\n",
        "  b = calc_b(alpha,sv_target_kernel_vector, sv_target)\n",
        "  print(b)\n",
        "\n",
        "plt.plot([p[0] for p in classA], [p[1] for p in classA], 'b.')\n",
        "plt.plot([p[0] for p in classB], [p[1] for p in classB], 'r.')\n",
        "plt.plot([f[0] for f in filtered_inputs], [f[1] for f in filtered_inputs], 'g.', marker=\"D\")\n",
        "xgrid = np.linspace(-3, 3)\n",
        "ygrid = np.linspace(-3, 3)\n",
        "grid = np.array([[indicator(x, y) for x in xgrid] for y in ygrid])\n",
        "plt.contour(xgrid, ygrid, grid, (-1.0, 0.0, 1.0), colors=('red','black','blue'),linewidths=(1 , 3 , 1))\n",
        "plt.axis('equal') # Force same scale on both axes\n",
        "plt.title(\"Kernel: \" + str(kernel_type) + \", p value: \" + str(p_value) \n",
        "          + \", sigma value: \" + str(sigma_value) + \", C parameter: \" + str(C) \n",
        "          + \", Converged?: \" + str(result), fontdict=None, loc='center')\n",
        "plt.rcParams['figure.figsize'] = figsize\n",
        "plt.savefig(kernel_type+'_C_'+str(C)+'_p_'+str(p_value)+'_sigma_'+str(sigma_value)+'.png') # Save a copy in a file\n",
        "plt.show() # Show the plot on the screen\n"
      ],
      "id": "LB-qeKanWOHV"
    }
  ],
  "metadata": {
    "kernelspec": {
      "display_name": "Python 3",
      "language": "python",
      "name": "python3"
    },
    "language_info": {
      "codemirror_mode": {
        "name": "ipython",
        "version": 3
      },
      "file_extension": ".py",
      "mimetype": "text/x-python",
      "name": "python",
      "nbconvert_exporter": "python",
      "pygments_lexer": "ipython3",
      "version": "3.7.9"
    },
    "colab": {
      "provenance": [],
      "include_colab_link": true
    }
  },
  "nbformat": 4,
  "nbformat_minor": 5
}